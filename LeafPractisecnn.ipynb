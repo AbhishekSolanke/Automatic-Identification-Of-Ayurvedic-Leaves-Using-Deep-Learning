{
 "cells": [
  {
   "cell_type": "code",
   "execution_count": 1,
   "id": "43ef85ac-940a-4d00-a26d-fb736404d908",
   "metadata": {},
   "outputs": [],
   "source": [
    "# Import required modules/methods\n",
    "import os\n",
    "\n",
    "import numpy as np\n",
    "import pandas as pd\n",
    "from sklearn.model_selection import train_test_split\n",
    "from matplotlib import pyplot as plt\n",
    "import seaborn as sns\n",
    "from pathlib import Path\n",
    "\n",
    "from keras.preprocessing.image import ImageDataGenerator\n",
    "import tensorflow as tf\n",
    "\n",
    "from keras.models import Sequential\n",
    "from keras.layers import Conv2D, MaxPool2D, Flatten, Dense\n",
    "\n",
    "from sklearn.metrics import confusion_matrix, classification_report"
   ]
  },
  {
   "cell_type": "code",
   "execution_count": 77,
   "id": "9b5e7dee-4c3c-4b48-a6ae-ce3859751a5a",
   "metadata": {},
   "outputs": [],
   "source": [
    "train_dir = Path(r'D:\\Train')"
   ]
  },
  {
   "cell_type": "code",
   "execution_count": 78,
   "id": "b5c44e21-ff2e-442e-92d4-666a20f13e9d",
   "metadata": {},
   "outputs": [],
   "source": [
    "train_filepaths = list(train_dir.glob(r'**/*.jpg'))"
   ]
  },
  {
   "cell_type": "code",
   "execution_count": 79,
   "id": "1261c520-6136-4243-bea2-3fd6102983b0",
   "metadata": {},
   "outputs": [
    {
     "data": {
      "text/plain": [
       "2710"
      ]
     },
     "execution_count": 79,
     "metadata": {},
     "output_type": "execute_result"
    }
   ],
   "source": [
    "len(train_filepaths)"
   ]
  },
  {
   "cell_type": "code",
   "execution_count": 80,
   "id": "2ce424c3-c9f6-4071-a035-5fe68ce5fb47",
   "metadata": {},
   "outputs": [
    {
     "data": {
      "text/plain": [
       "[WindowsPath('D:/Train/Adulsa (Justicia adhatoda)/Image1.jpg'),\n",
       " WindowsPath('D:/Train/Adulsa (Justicia adhatoda)/Image10.jpg'),\n",
       " WindowsPath('D:/Train/Adulsa (Justicia adhatoda)/Image11.jpg'),\n",
       " WindowsPath('D:/Train/Adulsa (Justicia adhatoda)/Image12.jpg')]"
      ]
     },
     "execution_count": 80,
     "metadata": {},
     "output_type": "execute_result"
    }
   ],
   "source": [
    "train_filepaths[1:5]"
   ]
  },
  {
   "cell_type": "code",
   "execution_count": 81,
   "id": "69f23685-901d-455f-9016-52f0bed7aee4",
   "metadata": {},
   "outputs": [],
   "source": [
    "filepath = pd.Series(train_filepaths,name='Filepath').astype(str)"
   ]
  },
  {
   "cell_type": "code",
   "execution_count": 82,
   "id": "c65061d2-17bf-4065-a507-0defecdd91d6",
   "metadata": {},
   "outputs": [
    {
     "data": {
      "text/plain": [
       "'D:\\\\Train\\\\Adulsa (Justicia adhatoda)\\\\Image1.jpg'"
      ]
     },
     "execution_count": 82,
     "metadata": {},
     "output_type": "execute_result"
    }
   ],
   "source": [
    "filepath[1]"
   ]
  },
  {
   "cell_type": "code",
   "execution_count": 83,
   "id": "4e8d00cf-6326-4cf4-bdc0-24e0b7bdb2d1",
   "metadata": {},
   "outputs": [
    {
     "data": {
      "text/plain": [
       "['D:', 'Train', 'Adulsa (Justicia adhatoda)', 'Image1.jpg']"
      ]
     },
     "execution_count": 83,
     "metadata": {},
     "output_type": "execute_result"
    }
   ],
   "source": [
    "str(train_filepaths[1]).split('\\\\')"
   ]
  },
  {
   "cell_type": "code",
   "execution_count": 84,
   "id": "de6721b8-6664-4a7c-bad1-58a757f5bdbc",
   "metadata": {},
   "outputs": [
    {
     "data": {
      "text/plain": [
       "'Adulsa (Justicia adhatoda)'"
      ]
     },
     "execution_count": 84,
     "metadata": {},
     "output_type": "execute_result"
    }
   ],
   "source": [
    "str(train_filepaths[1]).split('\\\\')[-2]"
   ]
  },
  {
   "cell_type": "code",
   "execution_count": 85,
   "id": "1a322a51-fad5-4315-88ab-67e240094b00",
   "metadata": {},
   "outputs": [
    {
     "data": {
      "text/plain": [
       "2710"
      ]
     },
     "execution_count": 85,
     "metadata": {},
     "output_type": "execute_result"
    }
   ],
   "source": [
    "len(filepath)"
   ]
  },
  {
   "cell_type": "code",
   "execution_count": 86,
   "id": "8a2e5018-faeb-498c-aebb-3798b929edb7",
   "metadata": {},
   "outputs": [],
   "source": [
    "labels = []\n",
    "for i in range(len(filepath)):\n",
    "    \n",
    "    # list.append(i)\n",
    "\n",
    "    label =str(train_filepaths[i]).split('\\\\')[-2]\n",
    "    labels.append(label)\n",
    "    \n",
    "    \n",
    "    # labels = pd.Series(labels, name='Labels')"
   ]
  },
  {
   "cell_type": "code",
   "execution_count": 87,
   "id": "ed7055ac-713d-4a3d-bdbf-a5678f76107f",
   "metadata": {},
   "outputs": [
    {
     "data": {
      "text/plain": [
       "['Adulsa (Justicia adhatoda)',\n",
       " 'Adulsa (Justicia adhatoda)',\n",
       " 'Adulsa (Justicia adhatoda)',\n",
       " 'Adulsa (Justicia adhatoda)']"
      ]
     },
     "execution_count": 87,
     "metadata": {},
     "output_type": "execute_result"
    }
   ],
   "source": [
    "labels[1:5]"
   ]
  },
  {
   "cell_type": "code",
   "execution_count": 88,
   "id": "dbaf2712-da6f-4887-aa9d-3ed3942b1694",
   "metadata": {},
   "outputs": [
    {
     "data": {
      "text/plain": [
       "[WindowsPath('D:/Train/Adulsa (Justicia adhatoda)/Image1.jpg'),\n",
       " WindowsPath('D:/Train/Adulsa (Justicia adhatoda)/Image10.jpg'),\n",
       " WindowsPath('D:/Train/Adulsa (Justicia adhatoda)/Image11.jpg'),\n",
       " WindowsPath('D:/Train/Adulsa (Justicia adhatoda)/Image12.jpg')]"
      ]
     },
     "execution_count": 88,
     "metadata": {},
     "output_type": "execute_result"
    }
   ],
   "source": [
    "train_filepaths[1:5]"
   ]
  },
  {
   "cell_type": "code",
   "execution_count": 89,
   "id": "470eeab4-b13f-4778-8903-fd2379515a79",
   "metadata": {},
   "outputs": [],
   "source": [
    "filepath = pd.Series(train_filepaths, name='Filepath').astype(str)\n",
    "labels = pd.Series(labels, name='Label')"
   ]
  },
  {
   "cell_type": "code",
   "execution_count": 90,
   "id": "6477ac47-d7b0-44e8-9199-01ad0b985ef6",
   "metadata": {},
   "outputs": [],
   "source": [
    "df = pd.concat([filepath, labels], axis=1)"
   ]
  },
  {
   "cell_type": "code",
   "execution_count": 91,
   "id": "707d43f7-d813-4102-8cea-542aac375ac9",
   "metadata": {},
   "outputs": [],
   "source": [
    "df = df.sample(frac=1).reset_index(drop = True)"
   ]
  },
  {
   "cell_type": "code",
   "execution_count": 92,
   "id": "36b87a76-e386-4b48-92b2-fd55b4a20836",
   "metadata": {},
   "outputs": [
    {
     "data": {
      "text/html": [
       "<div>\n",
       "<style scoped>\n",
       "    .dataframe tbody tr th:only-of-type {\n",
       "        vertical-align: middle;\n",
       "    }\n",
       "\n",
       "    .dataframe tbody tr th {\n",
       "        vertical-align: top;\n",
       "    }\n",
       "\n",
       "    .dataframe thead th {\n",
       "        text-align: right;\n",
       "    }\n",
       "</style>\n",
       "<table border=\"1\" class=\"dataframe\">\n",
       "  <thead>\n",
       "    <tr style=\"text-align: right;\">\n",
       "      <th></th>\n",
       "      <th>Filepath</th>\n",
       "      <th>Label</th>\n",
       "    </tr>\n",
       "  </thead>\n",
       "  <tbody>\n",
       "    <tr>\n",
       "      <th>0</th>\n",
       "      <td>D:\\Train\\Neem (Azadirachta indica)\\Image37.jpg</td>\n",
       "      <td>Neem (Azadirachta indica)</td>\n",
       "    </tr>\n",
       "    <tr>\n",
       "      <th>1</th>\n",
       "      <td>D:\\Train\\Ghrit Kumari (aloe vera)\\Image76.jpg</td>\n",
       "      <td>Ghrit Kumari (aloe vera)</td>\n",
       "    </tr>\n",
       "    <tr>\n",
       "      <th>2</th>\n",
       "      <td>D:\\Train\\Adulsa (Justicia adhatoda)\\Image45.jpg</td>\n",
       "      <td>Adulsa (Justicia adhatoda)</td>\n",
       "    </tr>\n",
       "    <tr>\n",
       "      <th>3</th>\n",
       "      <td>D:\\Train\\Ghrit Kumari (aloe vera)\\Image40.jpg</td>\n",
       "      <td>Ghrit Kumari (aloe vera)</td>\n",
       "    </tr>\n",
       "    <tr>\n",
       "      <th>4</th>\n",
       "      <td>D:\\Train\\Giloy (Tinospora cordifolia)\\050_106.jpg</td>\n",
       "      <td>Giloy (Tinospora cordifolia)</td>\n",
       "    </tr>\n",
       "  </tbody>\n",
       "</table>\n",
       "</div>"
      ],
      "text/plain": [
       "                                            Filepath  \\\n",
       "0     D:\\Train\\Neem (Azadirachta indica)\\Image37.jpg   \n",
       "1      D:\\Train\\Ghrit Kumari (aloe vera)\\Image76.jpg   \n",
       "2    D:\\Train\\Adulsa (Justicia adhatoda)\\Image45.jpg   \n",
       "3      D:\\Train\\Ghrit Kumari (aloe vera)\\Image40.jpg   \n",
       "4  D:\\Train\\Giloy (Tinospora cordifolia)\\050_106.jpg   \n",
       "\n",
       "                          Label  \n",
       "0     Neem (Azadirachta indica)  \n",
       "1      Ghrit Kumari (aloe vera)  \n",
       "2    Adulsa (Justicia adhatoda)  \n",
       "3      Ghrit Kumari (aloe vera)  \n",
       "4  Giloy (Tinospora cordifolia)  "
      ]
     },
     "execution_count": 92,
     "metadata": {},
     "output_type": "execute_result"
    }
   ],
   "source": [
    "train_df=df\n",
    "train_df.head(5)"
   ]
  },
  {
   "cell_type": "code",
   "execution_count": 93,
   "id": "8073d4ca-0587-414a-bb56-26eb439790b8",
   "metadata": {},
   "outputs": [
    {
     "name": "stdout",
     "output_type": "stream",
     "text": [
      "-- Training set --\n",
      "\n",
      "Number of pictures: 2710\n",
      "\n",
      "Number of different labels: 31\n",
      "\n",
      "Labels: ['Neem (Azadirachta indica)', 'Ghrit Kumari (aloe vera)', 'Adulsa (Justicia adhatoda)', 'Giloy (Tinospora cordifolia)', 'paan-(Piper Betle)', 'Nimbu (Citrus limon)', 'Orhul (Hibiscus Rosa-sinensis)', 'papaya (Carica papaya)', 'jackfruit (Artocarpus Heterophyllus)', 'Bargad (Ficus benghalensis)', 'Tulsi (Ocimum tenuiflorum)', 'Candan (Santalum Album)', 'Annar (Punica Granatum)', 'Mango (Mangifera indica)', 'Peepal (Ficus religiosa)', 'Gunja (Abrus precatorius)', 'Rasna (Pluchea lanceolata)', 'Malabar spinach (Basella Alba)', 'Pudina (Mentha)', 'Jamun (Syzygium cumini)', 'Aswagandha (Withania somnifera)', 'Amrud (Psidium)', 'Ashoka (Saraca asoca)', 'phagoora (Ficus Auriculata)', 'karanda (Carissa Carandas)', 'sarso (Brassica Juncea)', 'Karanja (Pongamia Pinnata)', 'Babul (Vachellia nilotica)', 'Mogra (Jasminum)', 'Tindora (Coccinia grandis)', 'Karela (Momordica charantia)']\n"
     ]
    }
   ],
   "source": [
    "print('-- Training set --\\n')\n",
    "print(f'Number of pictures: {train_df.shape[0]}\\n')\n",
    "print(f'Number of different labels: {len(train_df.Label.unique())}\\n')\n",
    "print(f'Labels: {train_df.Label.unique().tolist()}')"
   ]
  },
  {
   "cell_type": "code",
   "execution_count": 94,
   "id": "18d0b282-d17a-47ac-82e5-36ce0523fcd6",
   "metadata": {},
   "outputs": [],
   "source": [
    "# Scale the data - [0,1], validation split - creating objects\n",
    "train_DataGenerator = ImageDataGenerator(\n",
    "    rescale=1/255,\n",
    ")\n",
    "\n",
    "test_DataGenerator = ImageDataGenerator(\n",
    "    rescale=1/255,\n",
    ")"
   ]
  },
  {
   "cell_type": "code",
   "execution_count": 95,
   "id": "3f0cf780-3bf5-4dfa-af17-8c166081707a",
   "metadata": {},
   "outputs": [],
   "source": [
    "# Split train and test datasets\n",
    "train_df, test_df = train_test_split(df, \n",
    "                                     test_size=0.3, \n",
    "                                     shuffle=True, \n",
    "                                     random_state=1)"
   ]
  },
  {
   "cell_type": "code",
   "execution_count": 96,
   "id": "98b14526-4996-4c03-bd2d-5625bbf16a71",
   "metadata": {},
   "outputs": [
    {
     "name": "stdout",
     "output_type": "stream",
     "text": [
      "Found 1897 validated image filenames belonging to 31 classes.\n",
      "Found 813 validated image filenames belonging to 31 classes.\n"
     ]
    }
   ],
   "source": [
    "train_images = train_DataGenerator.flow_from_dataframe(\n",
    "    dataframe=train_df,\n",
    "    x_col=\"Filepath\",\n",
    "    y_col=\"Label\",\n",
    "    target_size=(128, 128),\n",
    "    class_mode=\"categorical\",\n",
    "    seed=42,\n",
    "    subset='training'\n",
    ")\n",
    "\n",
    "test_images = test_DataGenerator.flow_from_dataframe(\n",
    "    dataframe=test_df,\n",
    "    x_col=\"Filepath\",\n",
    "    y_col=\"Label\",\n",
    "    target_size=(128, 128),\n",
    "    class_mode=\"categorical\"\n",
    ")"
   ]
  },
  {
   "cell_type": "code",
   "execution_count": 97,
   "id": "aa4df82a-7258-4ba4-b1ba-d161fc6ef6c5",
   "metadata": {},
   "outputs": [
    {
     "data": {
      "text/plain": [
       "((128, 128, 3), (128, 128, 3))"
      ]
     },
     "execution_count": 97,
     "metadata": {},
     "output_type": "execute_result"
    }
   ],
   "source": [
    "test_images.image_shape, train_images.image_shape"
   ]
  },
  {
   "cell_type": "code",
   "execution_count": 4,
   "id": "05eef3a5-305c-42eb-9ddb-c1583b36e124",
   "metadata": {},
   "outputs": [
    {
     "data": {
      "text/plain": [
       "' model = Sequential()\\n\\n# Add first Conv and pool layers\\nmodel.add(Conv2D(filters = 32, \\n                 kernel_size = (3,3), \\n                 activation = \"relu\", \\n                 input_shape = (128, 128, 3),\\n                 name= \"Input_Layer\"))\\nmodel.add(MaxPool2D((2,2), name = \"Pooling_1\"))\\n\\n# 2nd Conv and pool layers\\nmodel.add(Conv2D(filters = 32, \\n                 kernel_size = (3,3), \\n                 activation = \"relu\", \\n                 name= \"Conv_Layer2\"))\\nmodel.add(MaxPool2D((2,2), name = \"Pooling_2\"))\\n# 3rd Conv and pool layers\\nmodel.add(Conv2D(filters = 64, \\n                kernel_size = (3,3), \\n                activation = \"relu\", \\n                name= \"Conv_Layer3\"))\\nmodel.add(MaxPool2D((2,2), name = \"Pooling_3\"))\\n#4th Conv and pool layers\\nmodel.add(Conv2D(filters = 64, \\n                 kernel_size = (3,3), \\n                 activation = \"relu\", \\n                 name= \"Conv_Layer4\"))\\nmodel.add(MaxPool2D((2,2), name = \"Pooling_4\"))\\n\\n\\n# Flatten the output of 2nd conv layer\\nmodel.add(Flatten())\\n\\n# Add FC layers\\nmodel.add(Dense(128, activation=\"relu\", name=\"Dense_1\")) # FC1\\nmodel.add(Dense(64, activation=\"relu\", name=\"Dense_2\")) # FC2\\nmodel.add(Dense(31, activation=\"softmax\", name=\"Output_Layer\")) # FC3 - Output FC layer '"
      ]
     },
     "execution_count": 4,
     "metadata": {},
     "output_type": "execute_result"
    }
   ],
   "source": [
    "model = Sequential()\n",
    "\n",
    "# Add first Conv and pool layers\n",
    "model.add(Conv2D(filters = 32, \n",
    "                 kernel_size = (3,3), \n",
    "                 activation = \"relu\", \n",
    "                 input_shape = (128, 128, 3),\n",
    "                 name= \"Input_Layer\"))\n",
    "model.add(MaxPool2D((2,2), name = \"Pooling_1\"))\n",
    "\n",
    "# 2nd Conv and pool layers\n",
    "model.add(Conv2D(filters = 32, \n",
    "                 kernel_size = (3,3), \n",
    "                 activation = \"relu\", \n",
    "                 name= \"Conv_Layer2\"))\n",
    "model.add(MaxPool2D((2,2), name = \"Pooling_2\"))\n",
    "# 3rd Conv and pool layers\n",
    "model.add(Conv2D(filters = 64, \n",
    "                kernel_size = (3,3), \n",
    "                activation = \"relu\", \n",
    "                name= \"Conv_Layer3\"))\n",
    "model.add(MaxPool2D((2,2), name = \"Pooling_3\"))\n",
    "#4th Conv and pool layers\n",
    "model.add(Conv2D(filters = 64, \n",
    "                 kernel_size = (3,3), \n",
    "                 activation = \"relu\", \n",
    "                 name= \"Conv_Layer4\"))\n",
    "model.add(MaxPool2D((2,2), name = \"Pooling_4\"))\n",
    "\n",
    "\n",
    "# Flatten the output of 2nd conv layer\n",
    "model.add(Flatten())\n",
    "\n",
    "# Add FC layers\n",
    "model.add(Dense(128, activation=\"relu\", name=\"Dense_1\")) # FC1\n",
    "model.add(Dense(64, activation=\"relu\", name=\"Dense_2\")) # FC2\n",
    "model.add(Dense(31, activation=\"softmax\", name=\"Output_Layer\")) # FC3 - Output FC layer"
   ]
  },
  {
   "cell_type": "code",
   "execution_count": 107,
   "id": "1295c12c-c1d6-41e7-a9c2-471d6311bfc7",
   "metadata": {},
   "outputs": [
    {
     "name": "stdout",
     "output_type": "stream",
     "text": [
      "Model: \"sequential_5\"\n",
      "_________________________________________________________________\n",
      " Layer (type)                Output Shape              Param #   \n",
      "=================================================================\n",
      " Input_Layer (Conv2D)        (None, 126, 126, 32)      896       \n",
      "                                                                 \n",
      " Pooling_1 (MaxPooling2D)    (None, 63, 63, 32)        0         \n",
      "                                                                 \n",
      " Conv_Layer2 (Conv2D)        (None, 61, 61, 32)        9248      \n",
      "                                                                 \n",
      " Pooling_2 (MaxPooling2D)    (None, 30, 30, 32)        0         \n",
      "                                                                 \n",
      " flatten_5 (Flatten)         (None, 28800)             0         \n",
      "                                                                 \n",
      " Dense_1 (Dense)             (None, 128)               3686528   \n",
      "                                                                 \n",
      " Dense_2 (Dense)             (None, 64)                8256      \n",
      "                                                                 \n",
      " Output_Layer (Dense)        (None, 31)                2015      \n",
      "                                                                 \n",
      "=================================================================\n",
      "Total params: 3,706,943\n",
      "Trainable params: 3,706,943\n",
      "Non-trainable params: 0\n",
      "_________________________________________________________________\n"
     ]
    }
   ],
   "source": [
    "model.summary()"
   ]
  },
  {
   "cell_type": "code",
   "execution_count": 108,
   "id": "2684dc4e-29a9-4e2f-9a9e-e4d83c2b696d",
   "metadata": {},
   "outputs": [],
   "source": [
    "model.compile(\n",
    "    optimizer=\"adam\",\n",
    "    loss=\"categorical_crossentropy\",\n",
    "    metrics=\"accuracy\"\n",
    ")"
   ]
  },
  {
   "cell_type": "code",
   "execution_count": null,
   "id": "2f0d68c2-bb0e-4392-9b34-64fb2d58c8e5",
   "metadata": {},
   "outputs": [
    {
     "name": "stdout",
     "output_type": "stream",
     "text": [
      "Epoch 1/10\n",
      "60/60 [==============================] - 21s 337ms/step - loss: 3.3726 - accuracy: 0.0838\n",
      "Epoch 2/10\n",
      "60/60 [==============================] - 20s 328ms/step - loss: 2.6746 - accuracy: 0.2478\n",
      "Epoch 3/10\n",
      "60/60 [==============================] - 22s 366ms/step - loss: 2.0709 - accuracy: 0.4075\n",
      "Epoch 4/10\n",
      "60/60 [==============================] - 25s 413ms/step - loss: 1.5430 - accuracy: 0.5414\n",
      "Epoch 5/10\n",
      "60/60 [==============================] - 25s 423ms/step - loss: 1.0645 - accuracy: 0.6800\n",
      "Epoch 6/10\n",
      "60/60 [==============================] - 26s 441ms/step - loss: 0.6699 - accuracy: 0.8118\n",
      "Epoch 7/10\n",
      "60/60 [==============================] - 22s 374ms/step - loss: 0.3726 - accuracy: 0.8962\n",
      "Epoch 8/10\n",
      "60/60 [==============================] - 21s 347ms/step - loss: 0.2178 - accuracy: 0.9431\n",
      "Epoch 9/10\n",
      "60/60 [==============================] - 47s 790ms/step - loss: 0.1142 - accuracy: 0.9758\n",
      "Epoch 10/10\n",
      " 8/60 [===>..........................] - ETA: 34s - loss: 0.0508 - accuracy: 0.9922"
     ]
    }
   ],
   "source": [
    "history = model.fit(\n",
    "    train_images,\n",
    "    epochs = 10\n",
    ")"
   ]
  },
  {
   "cell_type": "code",
   "execution_count": 102,
   "id": "35fc079f-41de-48bf-9288-91ce16f76184",
   "metadata": {},
   "outputs": [
    {
     "name": "stdout",
     "output_type": "stream",
     "text": [
      "26/26 [==============================] - 17s 687ms/step - loss: 1.9140 - accuracy: 0.5031\n"
     ]
    },
    {
     "data": {
      "text/plain": [
       "[1.9140005111694336, 0.5030750036239624]"
      ]
     },
     "execution_count": 102,
     "metadata": {},
     "output_type": "execute_result"
    }
   ],
   "source": [
    "model.evaluate(test_images)"
   ]
  },
  {
   "cell_type": "code",
   "execution_count": 103,
   "id": "8055623b-516f-4844-8f88-20bbdf3b2c7c",
   "metadata": {},
   "outputs": [
    {
     "data": {
      "text/plain": [
       "[5, 5, 5, 22]"
      ]
     },
     "execution_count": 103,
     "metadata": {},
     "output_type": "execute_result"
    }
   ],
   "source": [
    "prediction_pobabilities = model.predict(test_images)\n",
    "\n",
    "test_predictions = [np.argmax(prob) for prob in prediction_pobabilities]\n",
    "test_predictions[1:5]"
   ]
  },
  {
   "cell_type": "code",
   "execution_count": 104,
   "id": "6b24a551-23ca-46fd-bfc7-96f7fb885b44",
   "metadata": {},
   "outputs": [
    {
     "data": {
      "text/plain": [
       "array([[ 0,  0,  0,  0,  0,  2,  1,  0,  1,  1,  0,  0,  0,  1,  1,  0,\n",
       "         1,  1,  2,  1,  0,  1,  0,  0,  1,  0,  0,  0,  1,  0,  1],\n",
       "       [ 0,  0,  0,  0,  2,  1,  2,  0,  3,  3,  0,  2,  1,  0,  0,  0,\n",
       "         1,  1,  1,  1,  2,  0,  0,  0,  2,  1,  0,  0,  0,  1,  1],\n",
       "       [ 0,  0,  0,  0,  0,  5,  2,  1,  0,  2,  0,  1,  1,  0,  1,  0,\n",
       "         2,  0,  1,  0,  2,  0,  2,  0,  1,  0,  1,  0,  1,  0,  0],\n",
       "       [ 0,  1,  1,  0,  2,  1,  1,  0,  2,  0,  0,  1,  0,  0,  0,  0,\n",
       "         0,  0,  3,  0,  3,  0,  0,  1,  1,  0,  0,  0,  0,  1,  1],\n",
       "       [ 0,  1,  0,  0,  1,  8,  3,  0,  3,  1,  0,  0,  1,  0,  1,  0,\n",
       "         0,  2,  0,  1,  2,  2,  0,  2,  4,  3,  2,  1,  2,  2,  3],\n",
       "       [ 0,  0,  3,  1,  0,  8,  1,  0,  6,  6,  1,  3,  1,  0,  3,  1,\n",
       "         2,  3,  3,  1,  3,  1,  1,  0,  3,  1,  0,  1,  4,  1,  0],\n",
       "       [ 0,  0,  0,  0,  0, 11,  2,  1,  5,  4,  0,  1,  0,  0,  0,  0,\n",
       "         0,  3,  2,  1,  2,  0,  1,  0,  1,  2,  1,  1,  4,  0,  2],\n",
       "       [ 1,  0,  0,  1,  0,  0,  0,  0,  1,  0,  0,  1,  1,  0,  0,  1,\n",
       "         1,  0,  0,  0,  1,  1,  0,  0,  1,  0,  0,  0,  1,  1,  0],\n",
       "       [ 0,  0,  1,  1,  1,  4,  1,  0,  2,  4,  0,  1,  0,  0,  1,  1,\n",
       "         0,  1,  1,  1,  4,  1,  1,  1,  2,  1,  0,  0,  3,  1,  0],\n",
       "       [ 0,  4,  1,  2,  0,  8,  3,  0,  6,  9,  1,  2,  3,  1,  1,  0,\n",
       "         0,  3,  3,  0,  2,  1,  1,  1,  4,  2,  2,  0,  1,  0,  6],\n",
       "       [ 0,  0,  1,  0,  0,  1,  0,  0,  0,  4,  0,  1,  1,  0,  0,  0,\n",
       "         1,  2,  1,  1,  1,  0,  1,  0,  1,  0,  0,  0,  0,  0,  1],\n",
       "       [ 0,  0,  0,  0,  0,  6,  1,  0,  0,  3,  0,  2,  0,  0,  1,  0,\n",
       "         0,  3,  2,  0,  3,  1,  0,  1,  1,  0,  0,  1,  0,  1,  0],\n",
       "       [ 1,  0,  0,  0,  0,  4,  1,  0,  1,  3,  0,  1,  0,  0,  3,  0,\n",
       "         1,  0,  1,  0,  0,  1,  0,  0,  3,  0,  1,  0,  0,  1,  0],\n",
       "       [ 0,  0,  0,  0,  1,  0,  1,  0,  0,  2,  0,  0,  2,  0,  2,  0,\n",
       "         0,  2,  0,  0,  0,  1,  1,  0,  0,  0,  0,  0,  0,  0,  0],\n",
       "       [ 0,  0,  1,  1,  0,  3,  0,  0,  1,  1,  1,  0,  0,  0,  0,  2,\n",
       "         1,  0,  0,  0,  2,  0,  1,  1,  2,  0,  2,  1,  0,  0,  0],\n",
       "       [ 1,  1,  0,  1,  0,  3,  0,  0,  0,  0,  0,  0,  0,  0,  0,  0,\n",
       "         0,  1,  2,  0,  2,  1,  1,  0,  1,  1,  1,  0,  0,  0,  1],\n",
       "       [ 0,  0,  2,  0,  0,  3,  0,  1,  1,  1,  0,  5,  1,  0,  1,  0,\n",
       "         1,  3,  0,  1,  1,  0,  0,  0,  1,  0,  0,  0,  1,  0,  0],\n",
       "       [ 0,  3,  1,  0,  0,  6,  3,  0,  0,  1,  0,  1,  1,  0,  4,  0,\n",
       "         0,  0,  1,  0,  1,  0,  2,  0,  7,  0,  0,  1,  1,  0,  2],\n",
       "       [ 0,  0,  1,  0,  2,  4,  0,  0,  2,  2,  1,  3,  1,  1,  1,  0,\n",
       "         1,  1,  1,  0,  3,  0,  1,  3,  8,  0,  1,  0,  0,  1,  0],\n",
       "       [ 0,  0,  0,  1,  3,  0,  2,  0,  1,  1,  1,  1,  0,  0,  0,  1,\n",
       "         0,  0,  1,  0,  0,  0,  0,  0,  1,  1,  2,  0,  0,  0,  1],\n",
       "       [ 0,  0,  1,  0,  1,  6,  1,  0,  4,  1,  0,  1,  0,  1,  0,  0,\n",
       "         0,  3,  4,  0,  3,  0,  1,  1,  0,  2,  1,  0,  1,  0,  0],\n",
       "       [ 0,  0,  1,  0,  0,  5,  2,  0,  1,  3,  1,  1,  1,  0,  0,  0,\n",
       "         1,  0,  0,  0,  1,  0,  1,  0,  1,  0,  0,  0,  1,  0,  1],\n",
       "       [ 0,  0,  2,  0,  0,  3,  2,  1,  2,  3,  0,  0,  0,  0,  1,  0,\n",
       "         0,  0,  0,  0,  2,  1,  0,  0,  3,  1,  2,  0,  0,  0,  0],\n",
       "       [ 1,  0,  0,  0,  0,  3,  1,  0,  0,  1,  0,  2,  0,  0,  0,  0,\n",
       "         0,  0,  1,  0,  1,  0,  0,  0,  1,  0,  0,  0,  0,  0,  2],\n",
       "       [ 1,  3,  3,  0,  4,  9,  4,  1,  3,  6,  0,  3,  1,  0,  4,  0,\n",
       "         1,  1,  4,  0,  2,  0,  0,  0,  7,  0,  4,  1,  2,  0,  3],\n",
       "       [ 0,  1,  2,  0,  1,  1,  1,  0,  1,  1,  0,  0,  0,  0,  2,  0,\n",
       "         0,  1,  0,  0,  2,  3,  0,  1,  1,  0,  0,  0,  0,  0,  1],\n",
       "       [ 0,  0,  0,  0,  0,  4,  1,  0,  2,  2,  0,  3,  0,  0,  1,  0,\n",
       "         0,  0,  2,  0,  2,  0,  0,  0,  0,  0,  0,  1,  1,  0,  0],\n",
       "       [ 0,  0,  0,  0,  0,  3,  1,  0,  1,  1,  0,  0,  0,  0,  2,  0,\n",
       "         0,  1,  1,  1,  0,  0,  0,  0,  0,  1,  0,  1,  0,  0,  0],\n",
       "       [ 0,  0,  2,  0,  1,  1,  2,  0,  1,  1,  0,  1,  0,  0,  1,  0,\n",
       "         0,  0,  1,  0,  1,  1,  0,  0,  2,  0,  0,  0,  1,  2,  1],\n",
       "       [ 0,  0,  0,  0,  0,  1,  1,  0,  0,  1,  0,  0,  0,  0,  1,  0,\n",
       "         1,  0,  0,  1,  0,  0,  0,  0,  1,  0,  0,  0,  3,  0,  0],\n",
       "       [ 0,  0,  0,  0,  0,  1,  0,  0,  0,  1,  0,  0,  0,  0,  0,  0,\n",
       "         0,  1,  2,  0,  0,  0,  0,  0,  2,  0,  0,  0,  0,  0,  0]],\n",
       "      dtype=int64)"
      ]
     },
     "execution_count": 104,
     "metadata": {},
     "output_type": "execute_result"
    }
   ],
   "source": [
    "cm = confusion_matrix(test_images.labels, test_predictions)\n",
    "cm"
   ]
  },
  {
   "cell_type": "code",
   "execution_count": 105,
   "id": "98611ffe-abda-4af8-9f96-235bee72cee5",
   "metadata": {},
   "outputs": [
    {
     "name": "stdout",
     "output_type": "stream",
     "text": [
      "              precision    recall  f1-score   support\n",
      "\n",
      "           0       0.00      0.00      0.00        16\n",
      "           1       0.00      0.00      0.00        25\n",
      "           2       0.00      0.00      0.00        23\n",
      "           3       0.00      0.00      0.00        19\n",
      "           4       0.05      0.02      0.03        45\n",
      "           5       0.07      0.14      0.09        58\n",
      "           6       0.05      0.05      0.05        44\n",
      "           7       0.00      0.00      0.00        12\n",
      "           8       0.04      0.06      0.05        34\n",
      "           9       0.13      0.13      0.13        67\n",
      "          10       0.00      0.00      0.00        17\n",
      "          11       0.05      0.08      0.06        26\n",
      "          12       0.00      0.00      0.00        22\n",
      "          13       0.00      0.00      0.00        12\n",
      "          14       0.00      0.00      0.00        20\n",
      "          15       0.00      0.00      0.00        17\n",
      "          16       0.07      0.04      0.05        23\n",
      "          17       0.00      0.00      0.00        35\n",
      "          18       0.03      0.03      0.03        38\n",
      "          19       0.00      0.00      0.00        17\n",
      "          20       0.06      0.09      0.07        32\n",
      "          21       0.00      0.00      0.00        21\n",
      "          22       0.00      0.00      0.00        23\n",
      "          23       0.00      0.00      0.00        13\n",
      "          24       0.11      0.10      0.11        67\n",
      "          25       0.00      0.00      0.00        19\n",
      "          26       0.00      0.00      0.00        19\n",
      "          27       0.11      0.08      0.09        13\n",
      "          28       0.04      0.05      0.04        19\n",
      "          29       0.00      0.00      0.00        10\n",
      "          30       0.00      0.00      0.00         7\n",
      "\n",
      "    accuracy                           0.05       813\n",
      "   macro avg       0.03      0.03      0.03       813\n",
      "weighted avg       0.04      0.05      0.04       813\n",
      "\n"
     ]
    }
   ],
   "source": [
    "# Print classification report - important for evaluation of the model\n",
    "print(classification_report(test_images.labels, test_predictions))"
   ]
  },
  {
   "cell_type": "code",
   "execution_count": null,
   "id": "8bf969d2-d7fa-40dd-8cc2-7a21d865cdd8",
   "metadata": {},
   "outputs": [],
   "source": []
  }
 ],
 "metadata": {
  "kernelspec": {
   "display_name": "Python 3 (ipykernel)",
   "language": "python",
   "name": "python3"
  },
  "language_info": {
   "codemirror_mode": {
    "name": "ipython",
    "version": 3
   },
   "file_extension": ".py",
   "mimetype": "text/x-python",
   "name": "python",
   "nbconvert_exporter": "python",
   "pygments_lexer": "ipython3",
   "version": "3.9.5"
  }
 },
 "nbformat": 4,
 "nbformat_minor": 5
}
